{
 "cells": [
  {
   "cell_type": "code",
   "execution_count": null,
   "metadata": {
    "id": "XsjelGfqaz0e"
   },
   "outputs": [],
   "source": [
    "# Libraries\n",
    "import pandas as pd\n",
    "import re\n",
    "from sklearn.feature_extraction.text import TfidfVectorizer\n",
    "from sklearn.feature_extraction.text import ENGLISH_STOP_WORDS\n",
    "from sklearn.linear_model import LogisticRegression\n",
    "from sklearn.multiclass import OneVsRestClassifier\n",
    "from sklearn.model_selection import train_test_split, GridSearchCV\n",
    "from sklearn import linear_model\n",
    "import numpy as np\n",
    "from sklearn.metrics import classification_report, confusion_matrix\n",
    "import seaborn as sn\n",
    "import matplotlib.pyplot as plt"
   ]
  },
  {
   "cell_type": "code",
   "execution_count": null,
   "metadata": {
    "colab": {
     "base_uri": "https://localhost:8080/",
     "height": 255
    },
    "id": "oatPIGtpa-F7",
    "outputId": "8be2ef5c-5a99-4cbe-f283-805244dd068a"
   },
   "outputs": [
    {
     "name": "stdout",
     "output_type": "stream",
     "text": [
      "                       INDIAN_IMPORTER_NAME  ...    Product_ID\n",
      "0               RADIANT CORPORATION PVT LTD  ...     ['NP101']\n",
      "1               RADIANT CORPORATION PVT LTD  ...     ['NP101']\n",
      "2      AXALTA COATING SYSTEMS INDIA PVT LTD  ...    ['MIX181']\n",
      "3      AXALTA COATING SYSTEMS INDIA PVT LTD  ...    ['MIX181']\n",
      "4      AXALTA COATING SYSTEMS INDIA PVT LTD  ...    ['MIX181']\n",
      "...                                     ...  ...           ...\n",
      "11689  SOUTHERN ROCKS AND MINERALS PVT LTD.  ...            []\n",
      "11690  SOUTHERN ROCKS AND MINERALS PVT LTD.  ...            []\n",
      "11691  SOUTHERN ROCKS AND MINERALS PVT LTD.  ...            []\n",
      "11692                   RADIAN PRODUCTS LLP  ...    ['SH2217']\n",
      "11693                     AXA LEATHER GROUP  ...  ['E02694TI']\n",
      "\n",
      "[11694 rows x 3 columns]\n"
     ]
    }
   ],
   "source": [
    "# Data loading\n",
    "data=pd.read_excel(\"\")\n",
    "print(data)"
   ]
  },
  {
   "cell_type": "code",
   "execution_count": null,
   "metadata": {
    "id": "5ohjD1UdxBdg"
   },
   "outputs": [],
   "source": [
    "#data[\"PRODUCT_DESCRIPTION\"] = data[\"PRODUCT_DESCRIPTION\"].str.replace('[\\d{1,2}.\\d{1,2}.\\d{2,4}]',\"\")"
   ]
  },
  {
   "cell_type": "code",
   "execution_count": null,
   "metadata": {
    "id": "du_--sYS0ygC"
   },
   "outputs": [],
   "source": [
    "data[\"PRODUCT_DESCRIPTION\"] = data[\"PRODUCT_DESCRIPTION\"].str.replace('\\(|\\)',\" \")"
   ]
  },
  {
   "cell_type": "code",
   "execution_count": null,
   "metadata": {
    "id": "qn15eu571tB9"
   },
   "outputs": [],
   "source": [
    "data[\"PRODUCT_DESCRIPTION\"] = data[\"PRODUCT_DESCRIPTION\"].str.replace('[^a-zA-Z\\d\\s+]',\"\")"
   ]
  },
  {
   "cell_type": "code",
   "execution_count": null,
   "metadata": {
    "id": "JDmDhmJuyPU0"
   },
   "outputs": [],
   "source": [
    "data[\"PRODUCT_DESCRIPTION\"] = data[\"PRODUCT_DESCRIPTION\"].apply(lambda x: re.sub('\\d\\d\\d\\d\\d+', '',x))"
   ]
  },
  {
   "cell_type": "code",
   "execution_count": null,
   "metadata": {
    "colab": {
     "base_uri": "https://localhost:8080/",
     "height": 221
    },
    "id": "eqjD2xTwyGlG",
    "outputId": "e0d600d1-8d55-492a-fdf8-83fe2fc49bb3"
   },
   "outputs": [
    {
     "data": {
      "text/plain": [
       "0                                NP101 HF  CC DBL DARKGREY\n",
       "1                                   NP101 HF  CC DBL WHITE\n",
       "2         PAINT RELATED MATERIAL    STANDOBLUE BASECOAT...\n",
       "3         PAINT RELATED MATERIAL    STANDOBLUE BASECOAT...\n",
       "4         PAINT RELATED MATERIAL    STANDOBLUE BASECOAT...\n",
       "                               ...                        \n",
       "11689             COLOR ADDITIVESQUARTZ SLABS  IRON BROWN \n",
       "11690             COLOR ADDITIVESQUARTZ SLABS  IRON BLACK \n",
       "11691            COLOR ADDITIVESQUARTZ SLABS  ULTRAMARINE \n",
       "11692    BTD11S2  LOT SH2217  TITANIUM DIOXIDE  TRIETHO...\n",
       "11693                            SOLEDA IRIDE BIANCON  ETI\n",
       "Name: PRODUCT_DESCRIPTION, Length: 11694, dtype: object"
      ]
     },
     "execution_count": 57,
     "metadata": {
      "tags": []
     },
     "output_type": "execute_result"
    }
   ],
   "source": [
    "data[\"PRODUCT_DESCRIPTION\"]"
   ]
  },
  {
   "cell_type": "code",
   "execution_count": null,
   "metadata": {
    "id": "HVkUf306K5JF"
   },
   "outputs": [],
   "source": [
    "data['Product_ID'] = data.Product_ID.astype(str).str.replace('\\[|\\]|\\'', '')"
   ]
  },
  {
   "cell_type": "code",
   "execution_count": null,
   "metadata": {
    "colab": {
     "base_uri": "https://localhost:8080/",
     "height": 221
    },
    "id": "KyWrY4vtK47p",
    "outputId": "3cb2402d-83c7-4440-c36f-85b4ab907548"
   },
   "outputs": [
    {
     "data": {
      "text/plain": [
       "0           NP101\n",
       "1           NP101\n",
       "2          MIX181\n",
       "3          MIX181\n",
       "4          MIX181\n",
       "           ...   \n",
       "11689            \n",
       "11690            \n",
       "11691            \n",
       "11692      SH2217\n",
       "11693    E02694TI\n",
       "Name: Product_ID, Length: 11694, dtype: object"
      ]
     },
     "execution_count": 59,
     "metadata": {
      "tags": []
     },
     "output_type": "execute_result"
    }
   ],
   "source": [
    "data[\"Product_ID\"]"
   ]
  },
  {
   "cell_type": "code",
   "execution_count": null,
   "metadata": {
    "colab": {
     "base_uri": "https://localhost:8080/",
     "height": 204
    },
    "id": "WL8QnqqC968u",
    "outputId": "4438a41f-15af-4112-fd8f-ac41be161c39"
   },
   "outputs": [
    {
     "data": {
      "text/html": [
       "<div>\n",
       "<style scoped>\n",
       "    .dataframe tbody tr th:only-of-type {\n",
       "        vertical-align: middle;\n",
       "    }\n",
       "\n",
       "    .dataframe tbody tr th {\n",
       "        vertical-align: top;\n",
       "    }\n",
       "\n",
       "    .dataframe thead th {\n",
       "        text-align: right;\n",
       "    }\n",
       "</style>\n",
       "<table border=\"1\" class=\"dataframe\">\n",
       "  <thead>\n",
       "    <tr style=\"text-align: right;\">\n",
       "      <th></th>\n",
       "      <th>PRODUCT_DESCRIPTION</th>\n",
       "      <th>Product_ID</th>\n",
       "    </tr>\n",
       "  </thead>\n",
       "  <tbody>\n",
       "    <tr>\n",
       "      <th>0</th>\n",
       "      <td>15208 NP101HF CC DBL DARKGREY</td>\n",
       "      <td>NP101</td>\n",
       "    </tr>\n",
       "    <tr>\n",
       "      <th>1</th>\n",
       "      <td>15209 NP101HF CC DBL WHITE</td>\n",
       "      <td>NP101</td>\n",
       "    </tr>\n",
       "    <tr>\n",
       "      <th>2</th>\n",
       "      <td>PAINT RELATED MATERIAL 4024669500813 02050081 ...</td>\n",
       "      <td>MIX181</td>\n",
       "    </tr>\n",
       "    <tr>\n",
       "      <th>3</th>\n",
       "      <td>PAINT RELATED MATERIAL 4024669500813 02050081 ...</td>\n",
       "      <td>MIX181</td>\n",
       "    </tr>\n",
       "    <tr>\n",
       "      <th>4</th>\n",
       "      <td>PAINT RELATED MATERIAL 4024669500813 02050081 ...</td>\n",
       "      <td>MIX181</td>\n",
       "    </tr>\n",
       "  </tbody>\n",
       "</table>\n",
       "</div>"
      ],
      "text/plain": [
       "                                 PRODUCT_DESCRIPTION Product_ID\n",
       "0                      15208 NP101HF CC DBL DARKGREY      NP101\n",
       "1                         15209 NP101HF CC DBL WHITE      NP101\n",
       "2  PAINT RELATED MATERIAL 4024669500813 02050081 ...     MIX181\n",
       "3  PAINT RELATED MATERIAL 4024669500813 02050081 ...     MIX181\n",
       "4  PAINT RELATED MATERIAL 4024669500813 02050081 ...     MIX181"
      ]
     },
     "execution_count": 9,
     "metadata": {
      "tags": []
     },
     "output_type": "execute_result"
    }
   ],
   "source": [
    "data.head()"
   ]
  },
  {
   "cell_type": "code",
   "execution_count": null,
   "metadata": {
    "id": "_DxDhZMs-HxM"
   },
   "outputs": [],
   "source": [
    "fe = TfidfVectorizer(\n",
    "    min_df=1,\n",
    "    max_df=1.0,\n",
    "    ngram_range=(1, 4),\n",
    "    max_features=5000,\n",
    "    stop_words=ENGLISH_STOP_WORDS,\n",
    "    decode_error='ignore'\n",
    "    \n",
    ")"
   ]
  },
  {
   "cell_type": "code",
   "execution_count": null,
   "metadata": {
    "id": "dzx8pQ_T-h0M"
   },
   "outputs": [],
   "source": [
    "x_data = fe.fit_transform(data[\"PRODUCT_DESCRIPTION\"])"
   ]
  },
  {
   "cell_type": "code",
   "execution_count": null,
   "metadata": {
    "id": "2fohpuDy-pr7"
   },
   "outputs": [],
   "source": [
    "X_train, X_test, y_train, y_test = train_test_split(x_data, data['Product_ID'], test_size=0.2, random_state=1)"
   ]
  },
  {
   "cell_type": "code",
   "execution_count": null,
   "metadata": {
    "colab": {
     "base_uri": "https://localhost:8080/",
     "height": 34
    },
    "id": "qqKP6lnk-z_q",
    "outputId": "6d72e4f1-28f8-4c9f-9bce-b12a7835d57b"
   },
   "outputs": [
    {
     "data": {
      "text/plain": [
       "((9355, 5000), (2339, 5000), (9355,), (2339,))"
      ]
     },
     "execution_count": 63,
     "metadata": {
      "tags": []
     },
     "output_type": "execute_result"
    }
   ],
   "source": [
    "X_train.shape, X_test.shape,y_train.shape, y_test.shape"
   ]
  },
  {
   "cell_type": "code",
   "execution_count": null,
   "metadata": {
    "id": "iZQOVSZTJ0SA"
   },
   "outputs": [],
   "source": [
    "\"\"\"logistic = linear_model.LogisticRegression()\n",
    "penalty = ['l1', 'l2']\n",
    "C = np.logspace(0, 4, 10)\n",
    "hyperparameters = dict(C=C, penalty=penalty)\n",
    "clf1 = GridSearchCV(logistic, hyperparameters, cv=5, verbose=0)\n",
    "\n",
    "\n",
    "best_model = clf1.fit(X_train, y_train)\n",
    "best_model.best_estimator_.get_params()\"\"\""
   ]
  },
  {
   "cell_type": "code",
   "execution_count": null,
   "metadata": {
    "id": "Kdo5bXYwET70"
   },
   "outputs": [],
   "source": [
    "model = OneVsRestClassifier(estimator=LogisticRegression(C=1, class_weight=None,\n",
    "                                                 dual=False, fit_intercept=True,\n",
    "                                                 intercept_scaling=1,\n",
    "                                                 l1_ratio=None, max_iter=100,\n",
    "                                                 multi_class='warn',\n",
    "                                                 n_jobs=None, penalty='l1',\n",
    "                                                 random_state=None,\n",
    "                                                 solver='warn', tol=0.0001,\n",
    "                                                 verbose=0, warm_start=False))"
   ]
  },
  {
   "cell_type": "code",
   "execution_count": null,
   "metadata": {
    "colab": {
     "base_uri": "https://localhost:8080/",
     "height": 292
    },
    "id": "54122QdNEbHR",
    "outputId": "f85367c6-0e3e-42e4-e765-33b7f865c10b"
   },
   "outputs": [
    {
     "name": "stderr",
     "output_type": "stream",
     "text": [
      "/usr/local/lib/python3.6/dist-packages/sklearn/linear_model/logistic.py:432: FutureWarning: Default solver will be changed to 'lbfgs' in 0.22. Specify a solver to silence this warning.\n",
      "  FutureWarning)\n",
      "/usr/local/lib/python3.6/dist-packages/sklearn/svm/base.py:929: ConvergenceWarning: Liblinear failed to converge, increase the number of iterations.\n",
      "  \"the number of iterations.\", ConvergenceWarning)\n"
     ]
    },
    {
     "data": {
      "text/plain": [
       "OneVsRestClassifier(estimator=LogisticRegression(C=59.94842503189409,\n",
       "                                                 class_weight=None, dual=False,\n",
       "                                                 fit_intercept=True,\n",
       "                                                 intercept_scaling=1,\n",
       "                                                 l1_ratio=None, max_iter=100,\n",
       "                                                 multi_class='warn',\n",
       "                                                 n_jobs=None, penalty='l1',\n",
       "                                                 random_state=None,\n",
       "                                                 solver='warn', tol=0.0001,\n",
       "                                                 verbose=0, warm_start=False),\n",
       "                    n_jobs=None)"
      ]
     },
     "execution_count": 65,
     "metadata": {
      "tags": []
     },
     "output_type": "execute_result"
    }
   ],
   "source": [
    "model.fit(X_train, y_train)"
   ]
  },
  {
   "cell_type": "code",
   "execution_count": null,
   "metadata": {
    "id": "zR4ht-AcEekh"
   },
   "outputs": [],
   "source": [
    "predicted = model.predict(X_test)"
   ]
  },
  {
   "cell_type": "code",
   "execution_count": null,
   "metadata": {
    "colab": {
     "base_uri": "https://localhost:8080/",
     "height": 1000
    },
    "id": "iJzE4tGgkfww",
    "outputId": "f9f8e091-645b-4905-d990-765717c00b8b"
   },
   "outputs": [
    {
     "name": "stdout",
     "output_type": "stream",
     "text": [
      "              precision    recall  f1-score   support\n",
      "\n",
      "                   0.83      0.95      0.88       466\n",
      "         018       1.00      1.00      1.00         1\n",
      "         020       0.00      0.00      0.00         0\n",
      "     0342LMB       1.00      1.00      1.00         1\n",
      "      0826HP       0.00      0.00      0.00         1\n",
      "         100       1.00      1.00      1.00         2\n",
      "       10000       0.00      0.00      0.00         1\n",
      "        100C       0.00      0.00      0.00         0\n",
      "        100F       0.00      0.00      0.00         2\n",
      "      100MPM       1.00      0.67      0.80         3\n",
      "        100S       0.00      0.00      0.00         1\n",
      "         103       1.00      1.00      1.00         1\n",
      "        1109       0.00      0.00      0.00         1\n",
      "         113       1.00      1.00      1.00         8\n",
      "        1171       1.00      1.00      1.00         5\n",
      "         119       1.00      1.00      1.00         1\n",
      "         120       1.00      1.00      1.00         1\n",
      "         121       0.00      0.00      0.00         0\n",
      "         122       1.00      0.86      0.92         7\n",
      "         123       1.00      1.00      1.00         3\n",
      "         128       1.00      1.00      1.00        33\n",
      "         134       1.00      1.00      1.00         6\n",
      "         151       0.00      0.00      0.00         1\n",
      "         188       1.00      1.00      1.00         4\n",
      "        2000       1.00      1.00      1.00         6\n",
      "         201       1.00      1.00      1.00         2\n",
      "        2024       0.00      0.00      0.00         0\n",
      "        2044       0.00      0.00      0.00         0\n",
      "        2066       0.67      1.00      0.80         2\n",
      "         211       1.00      1.00      1.00         3\n",
      "        2160       0.00      0.00      0.00         1\n",
      "         219       0.00      0.00      0.00         1\n",
      "        2190       1.00      1.00      1.00         5\n",
      "        2196       0.67      1.00      0.80         2\n",
      "        2205       0.00      0.00      0.00         1\n",
      "        2220       1.00      1.00      1.00        23\n",
      "        2222       1.00      1.00      1.00         1\n",
      "        2230       1.00      1.00      1.00         3\n",
      "        2233       1.00      1.00      1.00         3\n",
      "        2300       0.00      0.00      0.00         1\n",
      "         231       1.00      1.00      1.00        11\n",
      "        2310       1.00      1.00      1.00        23\n",
      "        2360       0.00      0.00      0.00         1\n",
      "        2450       1.00      1.00      1.00         6\n",
      "        2500       0.33      1.00      0.50         1\n",
      "         280       1.00      1.00      1.00         1\n",
      "         284       0.00      0.00      0.00         1\n",
      "         288       1.00      1.00      1.00         1\n",
      "         300       1.00      1.00      1.00         1\n",
      "       30205       1.00      1.00      1.00         1\n",
      "         307       1.00      1.00      1.00         4\n",
      "         320       1.00      1.00      1.00         1\n",
      "        3305       0.00      0.00      0.00         0\n",
      "        3328       1.00      1.00      1.00         2\n",
      "      3417SG       0.00      0.00      0.00         1\n",
      "         351       1.00      1.00      1.00         1\n",
      "       35135       1.00      1.00      1.00         1\n",
      "       35136       1.00      1.00      1.00         1\n",
      "       35137       1.00      1.00      1.00         1\n",
      "       35171       1.00      1.00      1.00         3\n",
      "     35237MJ       0.00      0.00      0.00         1\n",
      "     35237SG       0.00      0.00      0.00         0\n",
      "     35241SG       1.00      1.00      1.00         1\n",
      "      35304B       1.00      1.00      1.00         1\n",
      "       35308       0.00      0.00      0.00         4\n",
      "         354       1.00      1.00      1.00         1\n",
      "       35417       1.00      1.00      1.00         1\n",
      "         400       1.00      1.00      1.00         1\n",
      "        400I       0.00      0.00      0.00         1\n",
      "       43027       0.00      0.00      0.00         1\n",
      "       43037       0.00      0.00      0.00         1\n",
      "       43124       1.00      1.00      1.00         1\n",
      "        4323       0.00      0.00      0.00         1\n",
      "         434       0.00      0.00      0.00         1\n",
      "         435       0.00      0.00      0.00         0\n",
      "       4503Z       0.50      1.00      0.67         1\n",
      "         531       0.00      0.00      0.00         1\n",
      "        5311       1.00      1.00      1.00        11\n",
      "        5400       1.00      1.00      1.00         2\n",
      "         541       0.00      0.00      0.00         2\n",
      "        5411       1.00      1.00      1.00         2\n",
      "        5422       1.00      1.00      1.00         1\n",
      "        5424       0.33      1.00      0.50         2\n",
      "        5430       1.00      1.00      1.00         2\n",
      "        5450       1.00      1.00      1.00         1\n",
      "        5552       0.00      0.00      0.00         0\n",
      "         561       0.00      0.00      0.00         1\n",
      "         595       1.00      1.00      1.00        41\n",
      "        6000       0.00      0.00      0.00         1\n",
      "       6000P       0.00      0.00      0.00         0\n",
      "         60W       0.00      0.00      0.00         1\n",
      "        6123       1.00      1.00      1.00         3\n",
      "         613       0.00      0.00      0.00         0\n",
      "        6163       1.00      1.00      1.00         1\n",
      "        6200       1.00      1.00      1.00         1\n",
      "        6300       0.96      0.96      0.96        23\n",
      "        6407       0.00      0.00      0.00         0\n",
      "         696       1.00      1.00      1.00         6\n",
      "        7040       1.00      1.00      1.00         1\n",
      "        7205       0.00      0.00      0.00         1\n",
      "        7217       0.00      0.00      0.00         2\n",
      "        7225       1.00      1.00      1.00         1\n",
      "       8303D       0.00      0.00      0.00         2\n",
      "        8400       1.00      1.00      1.00         3\n",
      "         900       1.00      1.00      1.00         1\n",
      "        9008       0.96      1.00      0.98        23\n",
      "        9111       1.00      1.00      1.00         1\n",
      "        9121       1.00      1.00      1.00         3\n",
      "        9163       1.00      1.00      1.00         1\n",
      "        9201       1.00      1.00      1.00         5\n",
      "        9205       1.00      1.00      1.00         5\n",
      "        9211       1.00      1.00      1.00         3\n",
      "        9231       0.00      0.00      0.00         0\n",
      "        9235       1.00      1.00      1.00         7\n",
      "         925       0.00      0.00      0.00         1\n",
      "        9300       1.00      1.00      1.00         1\n",
      "        9355       0.00      0.00      0.00         1\n",
      "        9440       1.00      1.00      1.00         1\n",
      "        9444       1.00      1.00      1.00         4\n",
      "       95311       1.00      1.00      1.00         2\n",
      "        9602       1.00      1.00      1.00         1\n",
      "       97205       0.88      1.00      0.93         7\n",
      "       97215       1.00      1.00      1.00         1\n",
      "       97217       0.33      1.00      0.50         1\n",
      "       97219       1.00      1.00      1.00         1\n",
      "       97225       1.00      1.00      1.00         4\n",
      "       97235       1.00      1.00      1.00         1\n",
      "        9870       0.00      0.00      0.00         1\n",
      "         999       0.00      0.00      0.00         1\n",
      "        A101       0.50      1.00      0.67         1\n",
      "        A201       0.00      0.00      0.00         1\n",
      "       A20ML       0.00      0.00      0.00         0\n",
      "         A40       1.00      1.00      1.00         1\n",
      "        A501       0.00      0.00      0.00         1\n",
      "       A660K       0.00      0.00      0.00         1\n",
      "       A80FS       0.67      0.67      0.67         3\n",
      "       AB10W       0.00      0.00      0.00         1\n",
      "     AF400ML       1.00      1.00      1.00         3\n",
      "       AG100       0.00      0.00      0.00         1\n",
      "       AG120       0.00      0.00      0.00         1\n",
      "       AG121       0.00      0.00      0.00         0\n",
      "       AG151       0.00      0.00      0.00         1\n",
      "       AG323       0.00      0.00      0.00         1\n",
      "       AG355       0.00      0.00      0.00         0\n",
      "      AS7000       0.00      0.00      0.00         1\n",
      "      ATA125       0.00      0.00      0.00         1\n",
      "      ATR312       1.00      1.00      1.00        10\n",
      "      ATR315       1.00      1.00      1.00         6\n",
      "      AV01FG       0.00      0.00      0.00         1\n",
      "        B001       1.00      1.00      1.00         2\n",
      "        B101       1.00      1.00      1.00        34\n",
      "       B230R       0.00      0.00      0.00         1\n",
      "        B241       0.00      0.00      0.00         2\n",
      "      B28920       0.00      0.00      0.00         1\n",
      "        B301       1.00      1.00      1.00         3\n",
      "        B319       0.00      0.00      0.00         1\n",
      "        B393       0.00      0.00      0.00         0\n",
      "        B512       0.00      0.00      0.00         0\n",
      "        B522       0.00      0.00      0.00         1\n",
      "        B542       0.00      0.00      0.00         2\n",
      "    BATCH107       1.00      1.00      1.00         2\n",
      "      BL3876       0.50      1.00      0.67         1\n",
      "      BLR601       1.00      1.00      1.00        10\n",
      "      BLR698       1.00      0.91      0.95        11\n",
      "      BLR699       0.96      1.00      0.98        44\n",
      "      BLR895       0.98      1.00      0.99        42\n",
      "     BTD11SP       1.00      0.50      0.67         2\n",
      "        C001       0.75      1.00      0.86         3\n",
      "      C32197       0.00      0.00      0.00         0\n",
      "        C393       1.00      0.50      0.67         2\n",
      "      C41260       0.00      0.00      0.00         1\n",
      "      C41892       0.00      0.00      0.00         0\n",
      "        C522       0.00      0.00      0.00         0\n",
      "      C82559       0.00      0.00      0.00         1\n",
      "       C9005       0.00      0.00      0.00         1\n",
      "      C90457       0.00      0.00      0.00         0\n",
      "      CB35MB       1.00      1.00      1.00         1\n",
      "       CR210       0.00      0.00      0.00         0\n",
      "        CR50       1.00      1.00      1.00         3\n",
      "       CR501       0.00      0.00      0.00         1\n",
      "       CR510       0.00      0.00      0.00         0\n",
      "      CR5120       1.00      1.00      1.00         4\n",
      "        CR60       1.00      1.00      1.00         1\n",
      "       CR601       0.00      0.00      0.00         1\n",
      "         CR8       1.00      1.00      1.00         3\n",
      "      CR800E       1.00      1.00      1.00        13\n",
      "       CR826       1.00      0.98      0.99        52\n",
      "       CR828       0.98      0.97      0.97        59\n",
      "       CR834       0.67      1.00      0.80         2\n",
      "       CR880       1.00      1.00      1.00         1\n",
      "        CR95       1.00      1.00      1.00         4\n",
      "        D001       0.00      0.00      0.00         1\n",
      "      DHA100       1.00      1.00      1.00         1\n",
      "     DS50710       1.00      1.00      1.00         1\n",
      "        E001       1.00      1.00      1.00         4\n",
      "    EC3000AM       1.00      1.00      1.00         3\n",
      "      EC300E       0.00      0.00      0.00         1\n",
      "     EP41158       0.00      0.00      0.00         1\n",
      "      ES7722       1.00      1.00      1.00         1\n",
      "         F40       0.00      0.00      0.00         0\n",
      "         FC5       1.00      1.00      1.00        11\n",
      "       FR767       0.00      0.00      0.00         1\n",
      "       FX500       1.00      0.50      0.67         2\n",
      "       FX502       1.00      1.00      1.00         1\n",
      "       FX520       1.00      1.00      1.00         1\n",
      "       G4105       0.00      0.00      0.00         1\n",
      "       G9049       0.00      0.00      0.00         1\n",
      "       G9067       0.00      0.00      0.00         0\n",
      "       G9082       0.00      0.00      0.00         1\n",
      "       G9157       0.00      0.00      0.00         2\n",
      "       G9165       0.00      0.00      0.00         0\n",
      "   GOLD35189       1.00      1.00      1.00         3\n",
      "      GY152R       0.00      0.00      0.00         1\n",
      "      GZ0981       1.00      1.00      1.00         1\n",
      "      H43257       0.00      0.00      0.00         0\n",
      "       HA300       1.00      1.00      1.00         3\n",
      "         HD2       1.00      1.00      1.00         3\n",
      "       HG155       0.00      0.00      0.00         1\n",
      "       HG558       0.00      0.00      0.00         0\n",
      "      HP1279       1.00      1.00      1.00         1\n",
      "         HS1       0.00      0.00      0.00         1\n",
      "      HTR616       0.00      0.00      0.00         1\n",
      "     IC07610       0.00      0.00      0.00         2\n",
      "      IC3020       0.00      0.00      0.00         1\n",
      "        IN17       1.00      0.50      0.67         2\n",
      "       IN914       1.00      1.00      1.00         2\n",
      "      JR600E       1.00      1.00      1.00         1\n",
      "       JR701       1.00      1.00      1.00         7\n",
      "       JR805       0.00      0.00      0.00         1\n",
      "        K001       0.00      0.00      0.00         1\n",
      "       K1800       0.00      0.00      0.00         1\n",
      "         K1R       1.00      1.00      1.00         4\n",
      "        K241       0.00      0.00      0.00         1\n",
      "        K261       0.00      0.00      0.00         1\n",
      "        K271       0.00      0.00      0.00         0\n",
      "       K3842       0.00      0.00      0.00         1\n",
      "       KA100       1.00      1.00      1.00         3\n",
      "       KC100       1.00      0.88      0.93         8\n",
      "      KC100W       0.00      0.00      0.00         0\n",
      "       KC120       0.00      0.00      0.00         1\n",
      "      KC151K       0.00      0.00      0.00         1\n",
      "       KC201       0.00      0.00      0.00         1\n",
      "      KC205A       0.00      0.00      0.00         0\n",
      "       KC300       1.00      1.00      1.00         3\n",
      "       KC307       0.00      0.00      0.00         1\n",
      "      KC307K       0.00      0.00      0.00         1\n",
      "       KC310       0.00      0.00      0.00         1\n",
      "      KC351K       0.00      0.00      0.00         1\n",
      "    KC9103SW       0.00      0.00      0.00         2\n",
      "    KC9219SW       0.00      0.00      0.00         1\n",
      "    KC9225SW       0.00      0.00      0.00         0\n",
      "      KJ120A       1.00      1.00      1.00         1\n",
      "       KJ153       1.00      1.00      1.00         1\n",
      "       KJ163       1.00      1.00      1.00         2\n",
      "      KJ205A       0.33      1.00      0.50         1\n",
      "      KJ215A       0.00      0.00      0.00         2\n",
      "      KJ219A       0.00      0.00      0.00         0\n",
      "      KJ225A       1.00      1.00      1.00         1\n",
      "      KJ235A       0.67      1.00      0.80         2\n",
      "      KJ300A       1.00      1.00      1.00         3\n",
      "      KJ500A       1.00      1.00      1.00         1\n",
      "      KJ504A       1.00      1.00      1.00         1\n",
      "      KL2017       0.00      0.00      0.00         1\n",
      "        KU26       1.00      1.00      1.00         1\n",
      "      L730MS       1.00      1.00      1.00         1\n",
      "       LB111       1.00      1.00      1.00         1\n",
      "       LB300       1.00      1.00      1.00         1\n",
      "       LB303       0.00      0.00      0.00         2\n",
      "       LB305       0.33      1.00      0.50         1\n",
      "       LB351       0.00      0.00      0.00         1\n",
      "      LCR821       1.00      0.50      0.67         2\n",
      "      LL6055       1.00      1.00      1.00         2\n",
      "     LL8420A       1.00      1.00      1.00         1\n",
      "      LM9335       0.00      0.00      0.00         1\n",
      "     LM93355       0.00      0.00      0.00         1\n",
      "      LM9554       0.00      0.00      0.00         1\n",
      "       LR108       1.00      1.00      1.00        20\n",
      "     LR108PO       1.00      1.00      1.00         2\n",
      "       LR961       1.00      1.00      1.00         1\n",
      "       LR972       1.00      1.00      1.00        11\n",
      "       LR982       1.00      1.00      1.00         2\n",
      "        M030       1.00      1.00      1.00         3\n",
      "      M06198       0.00      0.00      0.00         0\n",
      "        M262       0.00      0.00      0.00         1\n",
      "        M600       0.00      0.00      0.00         0\n",
      "       M9010       0.00      0.00      0.00         1\n",
      "      MD6241       1.00      1.00      1.00         1\n",
      "       MI10C       0.00      0.00      0.00         2\n",
      "      MIX151       0.50      1.00      0.67         1\n",
      "      MIX181       1.00      1.00      1.00         1\n",
      "       MKR1S       0.50      0.50      0.50         2\n",
      "      MP1001       1.00      1.00      1.00         3\n",
      "      MP1005       1.00      1.00      1.00         3\n",
      "       MP115       1.00      1.00      1.00         4\n",
      "        MP20       1.00      1.00      1.00         1\n",
      "        MP40       1.00      1.00      1.00         5\n",
      "    MPY1133M       1.00      1.00      1.00         1\n",
      "       MS20C       1.00      1.00      1.00         1\n",
      "       MS30C       0.00      0.00      0.00         3\n",
      "       MS40C       0.00      0.00      0.00         0\n",
      "       MS50C       1.00      1.00      1.00         1\n",
      "         MS7       1.00      1.00      1.00         1\n",
      "       MS70C       0.00      0.00      0.00         0\n",
      "       MS80C       1.00      1.00      1.00         1\n",
      "     MT100AQ       0.00      0.00      0.00         2\n",
      "     MT100TV       0.00      0.00      0.00         0\n",
      "      MT100Z       1.00      1.00      1.00         1\n",
      "     MT500HD       1.00      1.00      1.00         4\n",
      "     MT700HD       0.00      0.00      0.00         1\n",
      "      MT700Z       0.00      0.00      0.00         0\n",
      "       MX10C       1.00      1.00      1.00         1\n",
      "         N0F       0.00      0.00      0.00         0\n",
      "        NA61       0.00      0.00      0.00         2\n",
      "       NR950       1.00      1.00      1.00         2\n",
      "       NS918       0.00      0.00      0.00         2\n",
      "      NTR606       1.00      1.00      1.00         3\n",
      "        OBD1       0.00      0.00      0.00         1\n",
      "       OX111       0.00      0.00      0.00         0\n",
      "    OYS652AK       0.00      0.00      0.00         1\n",
      "    OYS655QK       0.00      0.00      0.00         1\n",
      "    OYS665WK       0.00      0.00      0.00         3\n",
      "      P02401       0.00      0.00      0.00         0\n",
      "        P701       0.00      0.00      0.00         1\n",
      "       PA101       1.00      1.00      1.00         1\n",
      "      PB400R       0.00      0.00      0.00         1\n",
      "        PC81       1.00      1.00      1.00         1\n",
      "     PDA1000       1.00      1.00      1.00         1\n",
      "       PE100       1.00      1.00      1.00         5\n",
      "    PE12073E       1.00      1.00      1.00         6\n",
      "      PE2668       1.00      1.00      1.00         1\n",
      "      PE6194       0.00      0.00      0.00         0\n",
      "      PE6269       0.00      0.00      0.00         1\n",
      "       PEG10       1.00      1.00      1.00         4\n",
      "       PEW30       1.00      1.00      1.00         2\n",
      "       PF742       1.00      1.00      1.00         7\n",
      "      PFC105       0.00      0.00      0.00         2\n",
      "      PGA100       1.00      1.00      1.00         1\n",
      "       PO100       0.75      1.00      0.86         3\n",
      "       PP100       1.00      1.00      1.00         3\n",
      "       PP202       0.00      0.00      0.00         1\n",
      "       PP204       0.00      0.00      0.00         0\n",
      "        PP39       0.00      0.00      0.00         1\n",
      "         PP9       1.00      0.80      0.89        10\n",
      "       PPD42       0.00      0.00      0.00         1\n",
      "    PPF14682       0.00      0.00      0.00         1\n",
      "    PPF15031       0.00      0.00      0.00         0\n",
      "    PPF15032       0.00      0.00      0.00         1\n",
      "    PPF15077       0.00      0.00      0.00         1\n",
      "    PPF25061       0.00      0.00      0.00         2\n",
      "    PPF44256       0.00      0.00      0.00         1\n",
      "    PPF52801       0.00      0.00      0.00         1\n",
      "    PPF70600       0.00      0.00      0.00         1\n",
      "    PPF72111       0.00      0.00      0.00         1\n",
      "    PPF72151       0.00      0.00      0.00         1\n",
      "    PPF82352       0.00      0.00      0.00         1\n",
      "     PW0222B       0.00      0.00      0.00         0\n",
      "    PW3125MB       1.00      1.00      1.00         1\n",
      "       QC150       0.00      0.00      0.00         1\n",
      "       QW016       1.00      1.00      1.00         1\n",
      "         R10       1.00      1.00      1.00         1\n",
      "        R101       0.79      0.83      0.81        18\n",
      "        R104       0.98      0.98      0.98        91\n",
      "        R105       1.00      1.00      1.00        14\n",
      "     R19374J       0.00      0.00      0.00         1\n",
      "     R19376L       0.00      0.00      0.00         1\n",
      "       R200H       0.00      0.00      0.00         0\n",
      "       R2013       0.50      1.00      0.67         1\n",
      "        R213       1.00      1.00      1.00         2\n",
      "        R216       1.00      1.00      1.00        10\n",
      "       R2195       1.00      0.89      0.94         9\n",
      "       R2196       1.00      1.00      1.00         7\n",
      "       R232R       0.00      0.00      0.00         1\n",
      "        R244       1.00      1.00      1.00         5\n",
      "        R248       0.94      1.00      0.97        16\n",
      "        R258       1.00      1.00      1.00         3\n",
      "         R28       1.00      0.71      0.83         7\n",
      "        R298       0.00      0.00      0.00         1\n",
      "       R3395       1.00      1.00      1.00         5\n",
      "        R350       1.00      1.00      1.00        11\n",
      "        R405       0.75      1.00      0.86         3\n",
      "         R60       1.00      1.00      1.00         1\n",
      "        R607       0.00      0.00      0.00         0\n",
      "        R609       0.00      0.00      0.00         0\n",
      "       R6618       1.00      1.00      1.00         9\n",
      "      R6618T       0.00      0.00      0.00         1\n",
      "       R6628       0.00      0.00      0.00         0\n",
      "       R6658       0.00      0.00      0.00         1\n",
      "        R666       1.00      1.00      1.00         3\n",
      "        R668       1.00      0.50      0.67         2\n",
      "        R701       0.00      0.00      0.00         1\n",
      "        R706       1.00      0.95      0.97        19\n",
      "        R730       1.00      1.00      1.00         1\n",
      "        R760       0.00      0.00      0.00         2\n",
      "        R796       1.00      1.00      1.00         2\n",
      "        R802       0.00      0.00      0.00         1\n",
      "        R803       1.00      0.33      0.50         3\n",
      "        R818       0.96      0.96      0.96        26\n",
      "      R818RM       0.00      0.00      0.00         1\n",
      "        R820       0.50      1.00      0.67         1\n",
      "        R838       1.00      1.00      1.00        10\n",
      "        R868       1.00      1.00      1.00         1\n",
      "        R878       1.00      1.00      1.00         6\n",
      "        R900       1.00      1.00      1.00        23\n",
      "        R902       1.00      1.00      1.00       143\n",
      "       R902P       0.00      0.00      0.00         1\n",
      "        R903       0.00      0.00      0.00         1\n",
      "        R931       1.00      0.90      0.95        10\n",
      "        R960       1.00      1.00      1.00         9\n",
      "        R966       1.00      1.00      1.00         1\n",
      "       R9930       0.00      0.00      0.00         1\n",
      "        R996       0.90      1.00      0.95         9\n",
      "        R9PP       1.00      1.00      1.00         4\n",
      "       RC708       0.00      0.00      0.00         1\n",
      "        RC82       0.50      1.00      0.67         1\n",
      "       RCR11       1.00      1.00      1.00         1\n",
      "        RDE2       1.00      1.00      1.00         1\n",
      "        RE03       0.00      0.00      0.00         1\n",
      "     RED430Z       0.00      0.00      0.00         1\n",
      "     RED5554       0.00      0.00      0.00         1\n",
      "        RFC5       1.00      0.67      0.80         3\n",
      "       RG18P       1.00      1.00      1.00         7\n",
      "         RGX       1.00      1.00      1.00        11\n",
      "        RGZW       1.00      1.00      1.00         4\n",
      "      RK350S       0.00      0.00      0.00         1\n",
      "       RK500       0.00      0.00      0.00         1\n",
      "         RM2       0.00      0.00      0.00         1\n",
      "      RP1020       0.00      0.00      0.00         1\n",
      "      RP1035       0.00      0.00      0.00         1\n",
      "        RP16       0.00      0.00      0.00         1\n",
      "         RS1       1.00      1.00      1.00         1\n",
      "      RT52AA       0.00      0.00      0.00         1\n",
      "       RTC30       0.00      0.00      0.00         2\n",
      "    RX06013E       1.00      1.00      1.00         4\n",
      "        S120       0.00      0.00      0.00         0\n",
      "        S173       0.00      0.00      0.00         1\n",
      "         S20       1.00      1.00      1.00         1\n",
      "        S305       1.00      1.00      1.00         4\n",
      "        S598       1.00      1.00      1.00         1\n",
      "        S647       1.00      1.00      1.00         3\n",
      "       SA102       0.00      0.00      0.00         1\n",
      "      SH1989       0.00      0.00      0.00         0\n",
      "      SH2034       0.00      0.00      0.00         0\n",
      "      SH2158       0.00      0.00      0.00         0\n",
      "      SH2205       0.00      0.00      0.00         1\n",
      "      SH2217       0.00      0.00      0.00         1\n",
      "        SH73       0.00      0.00      0.00         0\n",
      "         SI2       1.00      1.00      1.00         4\n",
      "       SM162       0.00      0.00      0.00         0\n",
      "       SP100       1.00      1.00      1.00         1\n",
      "       SR237       0.50      0.33      0.40         3\n",
      "      SR2377       1.00      1.00      1.00         7\n",
      "       SR240       1.00      1.00      1.00         9\n",
      "      SR9000       1.00      1.00      1.00         6\n",
      "     ST35658       1.00      1.00      1.00         1\n",
      "     ST35659       1.00      1.00      1.00         1\n",
      "     ST35660       1.00      1.00      1.00         1\n",
      "     ST35661       1.00      1.00      1.00         1\n",
      "     ST35663       0.50      1.00      0.67         1\n",
      "     ST35664       0.00      0.00      0.00         0\n",
      "     ST35665       1.00      1.00      1.00         1\n",
      "     ST43230       0.00      0.00      0.00         1\n",
      "     ST43331       1.00      1.00      1.00         1\n",
      "      ST4353       0.00      0.00      0.00         0\n",
      "     ST43530       0.00      0.00      0.00         1\n",
      "       ST439       0.00      0.00      0.00         1\n",
      "      STV455       0.00      0.00      0.00         1\n",
      "    STV455WS       0.00      0.00      0.00         0\n",
      "    SWS144BK       1.00      1.00      1.00         2\n",
      "     SZ1003A       0.50      1.00      0.67         1\n",
      "     SZ1034A       1.00      1.00      1.00         2\n",
      "       SZ183       0.00      0.00      0.00         1\n",
      "      SZ300B       0.00      0.00      0.00         0\n",
      "      SZ305B       0.00      0.00      0.00         1\n",
      "         T10       1.00      1.00      1.00        10\n",
      "         T30       0.86      1.00      0.92        12\n",
      "         T50       1.00      0.67      0.80         3\n",
      "         T81       0.00      0.00      0.00         2\n",
      "      T82630       0.00      0.00      0.00         1\n",
      "      T82830       0.00      0.00      0.00         1\n",
      "       T8414       0.00      0.00      0.00         1\n",
      "        T909       0.50      1.00      0.67         1\n",
      "    TAO77891       0.00      0.00      0.00         2\n",
      "        TC30       1.00      1.00      1.00         3\n",
      "      TC30IN       0.33      1.00      0.50         1\n",
      "      THR218       1.00      1.00      1.00         1\n",
      "     TIOX220       0.00      0.00      0.00         1\n",
      "     TIOX280       1.00      1.00      1.00        13\n",
      "        TR10       1.00      1.00      1.00         1\n",
      "        TR28       1.00      1.00      1.00        19\n",
      "        TR36       1.00      0.75      0.86         4\n",
      "        TR50       0.00      0.00      0.00         1\n",
      "        TR52       0.86      1.00      0.92        12\n",
      "      TR52IN       0.00      0.00      0.00         2\n",
      "        TR81       0.50      0.50      0.50         4\n",
      "      TR81IN       0.00      0.00      0.00         2\n",
      "        TR88       0.33      0.50      0.40         2\n",
      "        TR92       1.00      1.00      1.00        49\n",
      "      TT1866       0.00      0.00      0.00         0\n",
      "      TT2709       0.00      0.00      0.00         1\n",
      "       TY150       0.00      0.00      0.00         0\n",
      "        U100       1.00      1.00      1.00         7\n",
      "      US2005       0.00      0.00      0.00         2\n",
      "         UV3       0.00      0.00      0.00         1\n",
      "     UV731LD       0.00      0.00      0.00         1\n",
      "         V6N       0.50      1.00      0.67         1\n",
      "       V9412       0.00      0.00      0.00         2\n",
      "        WB01       1.00      1.00      1.00         3\n",
      "        WB02       1.00      1.00      1.00         1\n",
      "       WE70U       0.00      0.00      0.00         0\n",
      "   WHT0109KE       0.00      0.00      0.00         0\n",
      "   WHT2784PK       1.00      1.00      1.00         1\n",
      "   WHT3181AK       1.00      1.00      1.00         3\n",
      "   WHT3252QK       0.67      1.00      0.80         2\n",
      "      WMB25R       0.00      0.00      0.00         0\n",
      "       X1000       0.00      0.00      0.00         1\n",
      "       Y226R       0.00      0.00      0.00         0\n",
      "      YR350R       0.00      0.00      0.00         0\n",
      "       YR803       1.00      1.00      1.00         5\n",
      "        Z001       0.00      0.00      0.00         1\n",
      "     ZCN910L       0.00      0.00      0.00         1\n",
      "       ZR965       1.00      1.00      1.00        35\n",
      "     ZY6602A       1.00      1.00      1.00         5\n",
      "     tiox220       0.00      0.00      0.00         0\n",
      "\n",
      "    accuracy                           0.89      2339\n",
      "   macro avg       0.51      0.52      0.51      2339\n",
      "weighted avg       0.86      0.89      0.87      2339\n",
      "\n"
     ]
    },
    {
     "name": "stderr",
     "output_type": "stream",
     "text": [
      "/usr/local/lib/python3.6/dist-packages/sklearn/metrics/classification.py:1437: UndefinedMetricWarning: Precision and F-score are ill-defined and being set to 0.0 in labels with no predicted samples.\n",
      "  'precision', 'predicted', average, warn_for)\n",
      "/usr/local/lib/python3.6/dist-packages/sklearn/metrics/classification.py:1439: UndefinedMetricWarning: Recall and F-score are ill-defined and being set to 0.0 in labels with no true samples.\n",
      "  'recall', 'true', average, warn_for)\n"
     ]
    }
   ],
   "source": [
    "print(classification_report(y_test, predicted))"
   ]
  },
  {
   "cell_type": "code",
   "execution_count": null,
   "metadata": {
    "colab": {
     "base_uri": "https://localhost:8080/",
     "height": 136
    },
    "id": "6A7OwFplkntd",
    "outputId": "211ff90c-1075-4ea2-b3aa-8329976e017b"
   },
   "outputs": [
    {
     "name": "stdout",
     "output_type": "stream",
     "text": [
      "[[443   0   0 ...   0   0   1]\n",
      " [  0   1   0 ...   0   0   0]\n",
      " [  0   0   0 ...   0   0   0]\n",
      " ...\n",
      " [  0   0   0 ...  35   0   0]\n",
      " [  0   0   0 ...   0   5   0]\n",
      " [  0   0   0 ...   0   0   0]]\n"
     ]
    }
   ],
   "source": [
    "print(confusion_matrix(y_test, predicted))"
   ]
  },
  {
   "cell_type": "code",
   "execution_count": null,
   "metadata": {
    "id": "8_A-kj26k5R9"
   },
   "outputs": [],
   "source": [
    "test_data=pd.read_excel(\".xlsx\")"
   ]
  },
  {
   "cell_type": "code",
   "execution_count": null,
   "metadata": {
    "id": "pQK6zqGHnGAZ"
   },
   "outputs": [],
   "source": [
    "test_data[\"PRODUCT_DESCRIPTION\"] = test_data[\"PRODUCT_DESCRIPTION\"].str.replace('[^a-zA-Z\\d\\s+]',\"\")"
   ]
  },
  {
   "cell_type": "code",
   "execution_count": null,
   "metadata": {
    "id": "YK90QPTUnL95"
   },
   "outputs": [],
   "source": [
    "test_data['Product_ID'] = test_data.Product_ID.astype(str).str.replace('\\[|\\]|\\'', '')"
   ]
  },
  {
   "cell_type": "code",
   "execution_count": null,
   "metadata": {
    "colab": {
     "base_uri": "https://localhost:8080/",
     "height": 221
    },
    "id": "7Dep9TsinOnM",
    "outputId": "3baee501-07a7-43c3-845b-1fb60fa600eb"
   },
   "outputs": [
    {
     "data": {
      "text/plain": [
       "0      LR972\n",
       "1      LR972\n",
       "2      LR972\n",
       "3      LR972\n",
       "4      LR972\n",
       "       ...  \n",
       "741         \n",
       "742         \n",
       "743         \n",
       "744         \n",
       "745         \n",
       "Name: Product_ID, Length: 746, dtype: object"
      ]
     },
     "execution_count": 59,
     "metadata": {
      "tags": []
     },
     "output_type": "execute_result"
    }
   ],
   "source": [
    "test_data[\"Product_ID\"]"
   ]
  },
  {
   "cell_type": "code",
   "execution_count": null,
   "metadata": {
    "id": "c-KyK2mCnUqH"
   },
   "outputs": [],
   "source": [
    "x_test_data = fe.transform(test_data[\"PRODUCT_DESCRIPTION\"])"
   ]
  },
  {
   "cell_type": "code",
   "execution_count": null,
   "metadata": {
    "id": "r_PEJLtLnapY"
   },
   "outputs": [],
   "source": [
    "predictedtest = model.predict(x_test_data)"
   ]
  },
  {
   "cell_type": "code",
   "execution_count": null,
   "metadata": {
    "id": "irLCQiJRn_0Z"
   },
   "outputs": [],
   "source": [
    "test_data['predicted'] = predictedtest"
   ]
  },
  {
   "cell_type": "code",
   "execution_count": null,
   "metadata": {
    "id": "zlmeKqywoM1m"
   },
   "outputs": [],
   "source": [
    "test_data.to_csv('')"
   ]
  }
 ],
 "metadata": {
  "colab": {
   "name": "3206 HS_Code.ipynb",
   "provenance": []
  },
  "kernelspec": {
   "display_name": "Python 3",
   "language": "python",
   "name": "python3"
  },
  "language_info": {
   "codemirror_mode": {
    "name": "ipython",
    "version": 3
   },
   "file_extension": ".py",
   "mimetype": "text/x-python",
   "name": "python",
   "nbconvert_exporter": "python",
   "pygments_lexer": "ipython3",
   "version": "3.8.5"
  }
 },
 "nbformat": 4,
 "nbformat_minor": 1
}
