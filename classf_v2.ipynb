{
  "nbformat": 4,
  "nbformat_minor": 0,
  "metadata": {
    "colab": {
      "name": "asian_paints_v2.ipynb",
      "provenance": []
    },
    "kernelspec": {
      "name": "python3",
      "display_name": "Python 3"
    }
  },
  "cells": [
    {
      "cell_type": "code",
      "metadata": {
        "id": "SHaw3yDKbFPd"
      },
      "source": [
        "import pandas as pd\n",
        "from sklearn.feature_extraction.text import TfidfVectorizer\n",
        "from sklearn.feature_extraction.text import ENGLISH_STOP_WORDS\n",
        "from sklearn.linear_model import LogisticRegression\n",
        "from sklearn.multiclass import OneVsRestClassifier\n",
        "from sklearn.model_selection import train_test_split, GridSearchCV\n",
        "from sklearn import linear_model\n",
        "import numpy as np\n",
        "from sklearn.metrics import classification_report, confusion_matrix\n",
        "import re\n",
        "from sklearn.metrics import classification_report, confusion_matrix"
      ],
      "execution_count": null,
      "outputs": []
    },
    {
      "cell_type": "code",
      "metadata": {
        "id": "lFLRESKDcpzn"
      },
      "source": [
        "data=pd.read_excel(\"Training set.xlsx\",sheet_name=\"Training Set\",usecols=(\"PRODUCT_DESCRIPITION\",\"Classifed\"))"
      ],
      "execution_count": null,
      "outputs": []
    },
    {
      "cell_type": "code",
      "metadata": {
        "id": "u92F9jeNdFin",
        "colab": {
          "base_uri": "https://localhost:8080/",
          "height": 204
        },
        "outputId": "ae786b63-2aea-4b8e-8cc5-ee87042c71f3"
      },
      "source": [
        "data.head()"
      ],
      "execution_count": null,
      "outputs": [
        {
          "output_type": "execute_result",
          "data": {
            "text/html": [
              "<div>\n",
              "<style scoped>\n",
              "    .dataframe tbody tr th:only-of-type {\n",
              "        vertical-align: middle;\n",
              "    }\n",
              "\n",
              "    .dataframe tbody tr th {\n",
              "        vertical-align: top;\n",
              "    }\n",
              "\n",
              "    .dataframe thead th {\n",
              "        text-align: right;\n",
              "    }\n",
              "</style>\n",
              "<table border=\"1\" class=\"dataframe\">\n",
              "  <thead>\n",
              "    <tr style=\"text-align: right;\">\n",
              "      <th></th>\n",
              "      <th>PRODUCT_DESCRIPITION</th>\n",
              "      <th>Classifed</th>\n",
              "    </tr>\n",
              "  </thead>\n",
              "  <tbody>\n",
              "    <tr>\n",
              "      <th>0</th>\n",
              "      <td>2 METHYL 1, 3 PROPANEDIOL (TANK CONTAINER)</td>\n",
              "      <td>NaN</td>\n",
              "    </tr>\n",
              "    <tr>\n",
              "      <th>1</th>\n",
              "      <td>PHTHALIC ANHYDRIDE [KOREA INDIA CEPA NO. K001 ...</td>\n",
              "      <td>PHTHALIC ANHYDRIDE</td>\n",
              "    </tr>\n",
              "    <tr>\n",
              "      <th>2</th>\n",
              "      <td>PENTAERYTHRITOL MONO GRADE (CAS NO.115 775)</td>\n",
              "      <td>PENTAERYTHRITOL MONO GRADE</td>\n",
              "    </tr>\n",
              "    <tr>\n",
              "      <th>3</th>\n",
              "      <td>PENTAERYTHRITOL MONO GRADE (CAS NO.115 775)</td>\n",
              "      <td>PENTAERYTHRITOL MONO GRADE</td>\n",
              "    </tr>\n",
              "    <tr>\n",
              "      <th>4</th>\n",
              "      <td>MONO PROPYLENE GLYCOL USP (INDUSTRIAL PERFUMER...</td>\n",
              "      <td>NaN</td>\n",
              "    </tr>\n",
              "  </tbody>\n",
              "</table>\n",
              "</div>"
            ],
            "text/plain": [
              "                                PRODUCT_DESCRIPITION                   Classifed\n",
              "0         2 METHYL 1, 3 PROPANEDIOL (TANK CONTAINER)                         NaN\n",
              "1  PHTHALIC ANHYDRIDE [KOREA INDIA CEPA NO. K001 ...          PHTHALIC ANHYDRIDE\n",
              "2        PENTAERYTHRITOL MONO GRADE (CAS NO.115 775)  PENTAERYTHRITOL MONO GRADE\n",
              "3        PENTAERYTHRITOL MONO GRADE (CAS NO.115 775)  PENTAERYTHRITOL MONO GRADE\n",
              "4  MONO PROPYLENE GLYCOL USP (INDUSTRIAL PERFUMER...                         NaN"
            ]
          },
          "metadata": {
            "tags": []
          },
          "execution_count": 5
        }
      ]
    },
    {
      "cell_type": "code",
      "metadata": {
        "id": "NCoNf4DnqwLE"
      },
      "source": [
        "data[\"PRODUCT_DESCRIPITION\"] = data[\"PRODUCT_DESCRIPITION\"].str.replace('[^a-zA-Z\\d\\s+]',\"\")\n",
        "data[\"PRODUCT_DESCRIPITION\"] = data[\"PRODUCT_DESCRIPITION\"].apply(lambda x: re.sub('\\d\\d\\d\\d\\d\\d+', '',x))\n",
        "data[\"Classifed\"] = data[\"Classifed\"].fillna(\"None\")"
      ],
      "execution_count": null,
      "outputs": []
    },
    {
      "cell_type": "code",
      "metadata": {
        "id": "pgqTPhAsrMp_",
        "colab": {
          "base_uri": "https://localhost:8080/",
          "height": 289
        },
        "outputId": "7448821d-df2d-417f-c5ed-e8dc00d08825"
      },
      "source": [
        "data[\"Classifed\"].unique()"
      ],
      "execution_count": null,
      "outputs": [
        {
          "output_type": "execute_result",
          "data": {
            "text/plain": [
              "array(['None', 'PHTHALIC ANHYDRIDE', 'PENTAERYTHRITOL MONO GRADE',\n",
              "       'Isophthalic Acid', 'Benzoic acid', 'DIACETONE ACRYLAMIDE',\n",
              "       'Propylene Glycol', 'Crude Soya', 'Refined Soybean Oil',\n",
              "       'Crude Linseed OIL', 'CASTOR OIL', 'DCO', 'GLYCEROL', 'GLYECERIN',\n",
              "       'GLYCERIN', 'COCONUT FATTY ACID', 'SUN ACID OIL', 'PALM ACID OIL',\n",
              "       'SOYA ACID OIL', 'Hydragloss', 'Kaolin Other', 'Polygloss',\n",
              "       'Neogen', 'Britex-96', 'RB Gloss', 'Britex-98', 'Uncoated Other',\n",
              "       'Omyacarb', 'Coated M-10', 'PCC', 'GCC', 'omyalite',\n",
              "       'zancarb coated M-10', 'Texanol', 'Alcohol ester', 'NX795',\n",
              "       'Ruanta C12', 'TMPD', 'Optifilm Enhancer', 'TXIB', 'C16', 'C-12',\n",
              "       'C-16', 'Alcohol Ester12', 'Rhodacal DS4AP', 'BYK XXX', 'Dowfax',\n",
              "       'Calfax', 'Nuosperse FA 196', 'Capstone FS64', 'Rhodacal SSA',\n",
              "       'Rhodacal DS10', 'Bermocoll ***', 'NA ', 'Natrosol ***',\n",
              "       'Tylose ***', 'HEC H200K', 'HEC B100K', 'HEC B15KC',\n",
              "       'Combizell MHEC 40000', 'HEC', 'FMC 25002', 'Milocell HEC 100B'],\n",
              "      dtype=object)"
            ]
          },
          "metadata": {
            "tags": []
          },
          "execution_count": 7
        }
      ]
    },
    {
      "cell_type": "code",
      "metadata": {
        "id": "ZssENsnusEVt"
      },
      "source": [
        "fe = TfidfVectorizer(\n",
        "    min_df=1,\n",
        "    max_df=1.0,\n",
        "    ngram_range=(1, 4),\n",
        "    max_features=5000,\n",
        "    stop_words=ENGLISH_STOP_WORDS,\n",
        "    decode_error='ignore'\n",
        ")"
      ],
      "execution_count": null,
      "outputs": []
    },
    {
      "cell_type": "code",
      "metadata": {
        "id": "Gy4p8FqxsYXt",
        "colab": {
          "base_uri": "https://localhost:8080/",
          "height": 289
        },
        "outputId": "12b53a08-6cba-4562-83d3-523bbb46fc51"
      },
      "source": [
        "fe"
      ],
      "execution_count": null,
      "outputs": [
        {
          "output_type": "execute_result",
          "data": {
            "text/plain": [
              "TfidfVectorizer(analyzer='word', binary=False, decode_error='ignore',\n",
              "                dtype=<class 'numpy.float64'>, encoding='utf-8',\n",
              "                input='content', lowercase=True, max_df=1.0, max_features=5000,\n",
              "                min_df=1, ngram_range=(1, 4), norm='l2', preprocessor=None,\n",
              "                smooth_idf=True,\n",
              "                stop_words=frozenset({'a', 'about', 'above', 'across', 'after',\n",
              "                                      'afterwards', 'again', 'against', 'all',\n",
              "                                      'almost', 'alone', 'along', 'already',\n",
              "                                      'also', 'although', 'always', 'am',\n",
              "                                      'among', 'amongst', 'amoungst', 'amount',\n",
              "                                      'an', 'and', 'another', 'any', 'anyhow',\n",
              "                                      'anyone', 'anything', 'anyway',\n",
              "                                      'anywhere', ...}),\n",
              "                strip_accents=None, sublinear_tf=False,\n",
              "                token_pattern='(?u)\\\\b\\\\w\\\\w+\\\\b', tokenizer=None, use_idf=True,\n",
              "                vocabulary=None)"
            ]
          },
          "metadata": {
            "tags": []
          },
          "execution_count": 9
        }
      ]
    },
    {
      "cell_type": "code",
      "metadata": {
        "id": "giK92TcvsZNN"
      },
      "source": [
        "x_data = fe.fit_transform(data[\"PRODUCT_DESCRIPITION\"])"
      ],
      "execution_count": null,
      "outputs": []
    },
    {
      "cell_type": "code",
      "metadata": {
        "id": "DHz8LCrRsjks"
      },
      "source": [
        "X_train, X_test, y_train, y_test = train_test_split(x_data, data['Classifed'], test_size=0.2, random_state=1)"
      ],
      "execution_count": null,
      "outputs": []
    },
    {
      "cell_type": "code",
      "metadata": {
        "id": "yCglVSM8s0H9",
        "colab": {
          "base_uri": "https://localhost:8080/",
          "height": 34
        },
        "outputId": "0943c4a5-6969-4ef9-bb2a-eb49460aa63c"
      },
      "source": [
        "X_train.shape, X_test.shape,y_train.shape, y_test.shape"
      ],
      "execution_count": null,
      "outputs": [
        {
          "output_type": "execute_result",
          "data": {
            "text/plain": [
              "((34556, 5000), (8639, 5000), (34556,), (8639,))"
            ]
          },
          "metadata": {
            "tags": []
          },
          "execution_count": 12
        }
      ]
    },
    {
      "cell_type": "code",
      "metadata": {
        "id": "4v84VfNss3GL"
      },
      "source": [
        "clf = OneVsRestClassifier(estimator=LogisticRegression(C=59.94842503189409, class_weight=None,\n",
        "                                                 dual=False, fit_intercept=True,\n",
        "                                                 intercept_scaling=1,\n",
        "                                                 l1_ratio=None, max_iter=100,\n",
        "                                                 multi_class='warn',\n",
        "                                                 n_jobs=None, penalty='l1',\n",
        "                                                 random_state=None,\n",
        "                                                 solver='warn', tol=0.0001,\n",
        "                                                 verbose=0, warm_start=False))"
      ],
      "execution_count": null,
      "outputs": []
    },
    {
      "cell_type": "code",
      "metadata": {
        "id": "QvsFsqvBtI4b",
        "colab": {
          "base_uri": "https://localhost:8080/",
          "height": 292
        },
        "outputId": "193c0804-681b-48d3-e1d7-ec48482394f7"
      },
      "source": [
        "clf.fit(X_train, y_train)"
      ],
      "execution_count": null,
      "outputs": [
        {
          "output_type": "stream",
          "text": [
            "/usr/local/lib/python3.6/dist-packages/sklearn/linear_model/logistic.py:432: FutureWarning: Default solver will be changed to 'lbfgs' in 0.22. Specify a solver to silence this warning.\n",
            "  FutureWarning)\n",
            "/usr/local/lib/python3.6/dist-packages/sklearn/svm/base.py:929: ConvergenceWarning: Liblinear failed to converge, increase the number of iterations.\n",
            "  \"the number of iterations.\", ConvergenceWarning)\n"
          ],
          "name": "stderr"
        },
        {
          "output_type": "execute_result",
          "data": {
            "text/plain": [
              "OneVsRestClassifier(estimator=LogisticRegression(C=59.94842503189409,\n",
              "                                                 class_weight=None, dual=False,\n",
              "                                                 fit_intercept=True,\n",
              "                                                 intercept_scaling=1,\n",
              "                                                 l1_ratio=None, max_iter=100,\n",
              "                                                 multi_class='warn',\n",
              "                                                 n_jobs=None, penalty='l1',\n",
              "                                                 random_state=None,\n",
              "                                                 solver='warn', tol=0.0001,\n",
              "                                                 verbose=0, warm_start=False),\n",
              "                    n_jobs=None)"
            ]
          },
          "metadata": {
            "tags": []
          },
          "execution_count": 14
        }
      ]
    },
    {
      "cell_type": "code",
      "metadata": {
        "id": "dEt1o5catLf7"
      },
      "source": [
        "predicted = clf.predict(X_test)"
      ],
      "execution_count": null,
      "outputs": []
    },
    {
      "cell_type": "code",
      "metadata": {
        "id": "qlYk4X2jtbbK",
        "colab": {
          "base_uri": "https://localhost:8080/",
          "height": 1000
        },
        "outputId": "44b75d4d-a4d9-4ea9-8fa1-d2bda83159fa"
      },
      "source": [
        "print(classification_report(y_test, predicted))"
      ],
      "execution_count": null,
      "outputs": [
        {
          "output_type": "stream",
          "text": [
            "                            precision    recall  f1-score   support\n",
            "\n",
            "           Alcohol Ester12       0.00      0.00      0.00         2\n",
            "             Alcohol ester       0.93      0.93      0.93        15\n",
            "                   BYK XXX       0.67      0.67      0.67         6\n",
            "              Benzoic acid       1.00      0.96      0.98        46\n",
            "             Bermocoll ***       0.97      0.97      0.97        35\n",
            "                 Britex-96       1.00      1.00      1.00        13\n",
            "                      C-12       0.00      0.00      0.00         8\n",
            "                      C-16       1.00      0.50      0.67         4\n",
            "                       C16       1.00      1.00      1.00         1\n",
            "                CASTOR OIL       0.97      0.98      0.98       215\n",
            "        COCONUT FATTY ACID       1.00      1.00      1.00        40\n",
            "                    Calfax       1.00      1.00      1.00         9\n",
            "             Capstone FS64       0.00      0.00      0.00         1\n",
            "               Coated M-10       1.00      0.98      0.99       220\n",
            "      Combizell MHEC 40000       0.00      0.00      0.00         2\n",
            "         Crude Linseed OIL       0.00      0.00      0.00         2\n",
            "                Crude Soya       1.00      0.83      0.91        12\n",
            "                       DCO       0.00      0.00      0.00         4\n",
            "      DIACETONE ACRYLAMIDE       1.00      0.83      0.91        12\n",
            "                    Dowfax       1.00      1.00      1.00         2\n",
            "                 FMC 25002       0.00      0.00      0.00         1\n",
            "                       GCC       0.99      0.91      0.95        77\n",
            "                  GLYCEROL       1.00      0.92      0.96        25\n",
            "                 GLYECERIN       0.98      0.98      0.98        58\n",
            "                       HEC       1.00      1.00      1.00         2\n",
            "                 HEC B100K       1.00      0.67      0.80         3\n",
            "                 HEC B15KC       0.50      1.00      0.67         2\n",
            "                 HEC H200K       1.00      0.83      0.91        12\n",
            "                Hydragloss       1.00      0.97      0.99        35\n",
            "          Isophthalic Acid       1.00      0.99      1.00       158\n",
            "              Kaolin Other       0.99      0.98      0.98       386\n",
            "                       NA        0.99      0.98      0.98      2064\n",
            "                     NX795       1.00      1.00      1.00         8\n",
            "              Natrosol ***       1.00      0.99      1.00       124\n",
            "                    Neogen       1.00      1.00      1.00        54\n",
            "                      None       0.97      0.99      0.98      3041\n",
            "          Nuosperse FA 196       1.00      1.00      1.00         1\n",
            "                  Omyacarb       1.00      1.00      1.00       117\n",
            "         Optifilm Enhancer       1.00      0.98      0.99        46\n",
            "             PALM ACID OIL       1.00      1.00      1.00        83\n",
            "                       PCC       0.96      1.00      0.98        27\n",
            "PENTAERYTHRITOL MONO GRADE       0.93      0.95      0.94       117\n",
            "        PHTHALIC ANHYDRIDE       1.00      0.99      1.00       238\n",
            "                 Polygloss       1.00      1.00      1.00         3\n",
            "          Propylene Glycol       0.96      0.99      0.98       140\n",
            "                  RB Gloss       0.75      0.75      0.75         4\n",
            "       Refined Soybean Oil       1.00      1.00      1.00       126\n",
            "             Rhodacal DS10       0.00      0.00      0.00         1\n",
            "            Rhodacal DS4AP       0.00      0.00      0.00         2\n",
            "                Ruanta C12       0.50      0.90      0.64        10\n",
            "             SOYA ACID OIL       1.00      1.00      1.00        23\n",
            "              SUN ACID OIL       0.50      1.00      0.67         2\n",
            "                      TMPD       0.67      0.67      0.67         3\n",
            "                      TXIB       1.00      1.00      1.00         2\n",
            "                   Texanol       1.00      0.98      0.99        63\n",
            "                Tylose ***       1.00      1.00      1.00       116\n",
            "            Uncoated Other       0.98      0.99      0.99       782\n",
            "                  omyalite       1.00      0.96      0.98        25\n",
            "       zancarb coated M-10       1.00      1.00      1.00         9\n",
            "\n",
            "                  accuracy                           0.98      8639\n",
            "                 macro avg       0.80      0.80      0.79      8639\n",
            "              weighted avg       0.98      0.98      0.98      8639\n",
            "\n"
          ],
          "name": "stdout"
        },
        {
          "output_type": "stream",
          "text": [
            "/usr/local/lib/python3.6/dist-packages/sklearn/metrics/classification.py:1437: UndefinedMetricWarning: Precision and F-score are ill-defined and being set to 0.0 in labels with no predicted samples.\n",
            "  'precision', 'predicted', average, warn_for)\n"
          ],
          "name": "stderr"
        }
      ]
    },
    {
      "cell_type": "code",
      "metadata": {
        "id": "dcGF6KYNtdja",
        "colab": {
          "base_uri": "https://localhost:8080/",
          "height": 136
        },
        "outputId": "50770cbf-2bf7-4b1f-a3d9-77e5957cc600"
      },
      "source": [
        "print(confusion_matrix(y_test, predicted))"
      ],
      "execution_count": null,
      "outputs": [
        {
          "output_type": "stream",
          "text": [
            "[[  0   1   0 ...   0   0   0]\n",
            " [  0  14   0 ...   0   0   0]\n",
            " [  0   0   4 ...   0   0   0]\n",
            " ...\n",
            " [  0   0   0 ... 778   0   0]\n",
            " [  0   0   0 ...   1  24   0]\n",
            " [  0   0   0 ...   0   0   9]]\n"
          ],
          "name": "stdout"
        }
      ]
    },
    {
      "cell_type": "code",
      "metadata": {
        "id": "lIoWIlhxtmSq"
      },
      "source": [
        ""
      ],
      "execution_count": null,
      "outputs": []
    }
  ]
}